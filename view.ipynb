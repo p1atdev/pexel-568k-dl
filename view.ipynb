{
 "cells": [
  {
   "cell_type": "code",
   "execution_count": 5,
   "metadata": {},
   "outputs": [],
   "source": [
    "import json\n",
    "from datasets import load_dataset\n",
    "from tqdm import tqdm"
   ]
  },
  {
   "cell_type": "code",
   "execution_count": 2,
   "metadata": {},
   "outputs": [
    {
     "data": {
      "application/vnd.jupyter.widget-view+json": {
       "model_id": "e94790ad8abe450a8ebef53a2557dede",
       "version_major": 2,
       "version_minor": 0
      },
      "text/plain": [
       "Downloading readme:   0%|          | 0.00/5.72k [00:00<?, ?B/s]"
      ]
     },
     "metadata": {},
     "output_type": "display_data"
    },
    {
     "data": {
      "application/vnd.jupyter.widget-view+json": {
       "model_id": "07f808cd07ff4a7c94a7e84ab97c5eae",
       "version_major": 2,
       "version_minor": 0
      },
      "text/plain": [
       "Downloading data:   0%|          | 0.00/266M [00:00<?, ?B/s]"
      ]
     },
     "metadata": {},
     "output_type": "display_data"
    },
    {
     "data": {
      "application/vnd.jupyter.widget-view+json": {
       "model_id": "da746383d99b4298888dd5dd46dc0ce0",
       "version_major": 2,
       "version_minor": 0
      },
      "text/plain": [
       "Generating train split:   0%|          | 0/567573 [00:00<?, ? examples/s]"
      ]
     },
     "metadata": {},
     "output_type": "display_data"
    },
    {
     "data": {
      "text/plain": [
       "Dataset({\n",
       "    features: ['id', 'class_label', 'type', 'slug', 'description', 'alt', 'created_at', 'title', 'location', 'tags', 'main_color', 'colors', 'width', 'height', 'aspect_ratio', 'url', 'cogvlm_caption', 'megapixels', '__index_level_0__', 'internvl2_caption'],\n",
       "    num_rows: 567573\n",
       "})"
      ]
     },
     "execution_count": 2,
     "metadata": {},
     "output_type": "execute_result"
    }
   ],
   "source": [
    "ds = load_dataset(\"CaptionEmporium/pexels-568k-internvl2\", split=\"train\")\n",
    "ds"
   ]
  },
  {
   "cell_type": "code",
   "execution_count": 6,
   "metadata": {},
   "outputs": [
    {
     "name": "stderr",
     "output_type": "stream",
     "text": [
      "100%|██████████| 567573/567573 [00:40<00:00, 14050.84it/s]\n"
     ]
    }
   ],
   "source": [
    "with open(\"data.jsonl\", \"w\") as f:\n",
    "    for ex in tqdm(ds):\n",
    "        id = ex[\"id\"]\n",
    "        url = ex[\"url\"]\n",
    "        cogvlm = ex[\"cogvlm_caption\"]\n",
    "        internvl2 = ex[\"internvl2_caption\"]\n",
    "        width = ex[\"width\"]\n",
    "        height = ex[\"height\"]\n",
    "\n",
    "        f.write(json.dumps({\n",
    "            \"id\": id,\n",
    "            \"url\": url,\n",
    "            \"cogvlm\": cogvlm,\n",
    "            \"internvl2\": internvl2,\n",
    "            \"width\": width,\n",
    "            \"height\": height\n",
    "        }) + \"\\n\")"
   ]
  }
 ],
 "metadata": {
  "kernelspec": {
   "display_name": "py311",
   "language": "python",
   "name": "python3"
  },
  "language_info": {
   "codemirror_mode": {
    "name": "ipython",
    "version": 3
   },
   "file_extension": ".py",
   "mimetype": "text/x-python",
   "name": "python",
   "nbconvert_exporter": "python",
   "pygments_lexer": "ipython3",
   "version": "3.11.9"
  }
 },
 "nbformat": 4,
 "nbformat_minor": 2
}
